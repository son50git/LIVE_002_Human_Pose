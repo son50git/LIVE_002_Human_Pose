{
  "nbformat": 4,
  "nbformat_minor": 0,
  "metadata": {
    "colab": {
      "name": "Access_to_Google Drive.ipynb",
      "provenance": [],
      "authorship_tag": "ABX9TyN2Owje71c139UcZX4CviNO",
      "include_colab_link": true
    },
    "kernelspec": {
      "name": "python3",
      "display_name": "Python 3"
    }
  },
  "cells": [
    {
      "cell_type": "markdown",
      "metadata": {
        "id": "view-in-github",
        "colab_type": "text"
      },
      "source": [
        "<a href=\"https://colab.research.google.com/github/son50git/LIVE_002_Human_Pose/blob/master/Access_to_Google_Drive.ipynb\" target=\"_parent\"><img src=\"https://colab.research.google.com/assets/colab-badge.svg\" alt=\"Open In Colab\"/></a>"
      ]
    },
    {
      "cell_type": "code",
      "metadata": {
        "id": "TGPv2bPMhZaw"
      },
      "source": [
        "# Download in parallel\n",
        "# In sections 1 and 3, you don’t need to download the “train2017.zip” file\n",
        "# since it’s very large. We only need that one in Milestone 4.\n",
        "\n",
        "## code\n",
        "# files = ['val2017.zip', 'annotations_trainval2017.zip', 'train2017.zip']\n",
        "# files = ['val2017.zip', 'annotations_trainval2017.zip']\n",
        "# with multiprocessing.Pool(num_cpus) as p:\n",
        "#    p.map(download_and_unzip_from_s3, files)\n",
        "# print(\"Done transferring all datasets\")\n",
        "\n",
        "## outputs\n",
        "# Downloading annotations_trainval2017.zip\n",
        "# Downloading val2017.zip\n",
        "# Finished downloading annotations_trainval2017.zip . Starting to unzip.\n",
        "# Finished unzipping annotations_trainval2017.zip\n",
        "# Finished downloading val2017.zip . Starting to unzip.\n",
        "# Finished unzipping val2017.zip\n",
        "# Done transferring all datasets"
      ],
      "execution_count": null,
      "outputs": []
    }
  ]
}